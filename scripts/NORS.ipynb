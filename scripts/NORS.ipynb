{
 "cells": [
  {
   "cell_type": "code",
   "execution_count": 1,
   "id": "cb47ff3a",
   "metadata": {},
   "outputs": [],
   "source": [
    "import pandas as pd\n",
    "import re\n",
    "import numpy as np\n",
    "import warnings\n",
    "warnings.filterwarnings('ignore')\n",
    "from collections import Counter"
   ]
  },
  {
   "cell_type": "code",
   "execution_count": 2,
   "id": "e79e8261",
   "metadata": {},
   "outputs": [],
   "source": [
    "nors = pd.read_csv('../data/NORS.csv')"
   ]
  },
  {
   "cell_type": "code",
   "execution_count": 3,
   "id": "6ed9c4c2",
   "metadata": {},
   "outputs": [
    {
     "data": {
      "text/html": [
       "<div>\n",
       "<style scoped>\n",
       "    .dataframe tbody tr th:only-of-type {\n",
       "        vertical-align: middle;\n",
       "    }\n",
       "\n",
       "    .dataframe tbody tr th {\n",
       "        vertical-align: top;\n",
       "    }\n",
       "\n",
       "    .dataframe thead th {\n",
       "        text-align: right;\n",
       "    }\n",
       "</style>\n",
       "<table border=\"1\" class=\"dataframe\">\n",
       "  <thead>\n",
       "    <tr style=\"text-align: right;\">\n",
       "      <th></th>\n",
       "      <th>Year</th>\n",
       "      <th>Month</th>\n",
       "      <th>State</th>\n",
       "      <th>Primary Mode</th>\n",
       "      <th>Etiology</th>\n",
       "      <th>Serotype or Genotype</th>\n",
       "      <th>Etiology Status</th>\n",
       "      <th>Setting</th>\n",
       "      <th>Illnesses</th>\n",
       "      <th>Hospitalizations</th>\n",
       "      <th>...</th>\n",
       "      <th>Deaths</th>\n",
       "      <th>Info on Deaths</th>\n",
       "      <th>Food Vehicle</th>\n",
       "      <th>Food Contaminated Ingredient</th>\n",
       "      <th>IFSAC Category</th>\n",
       "      <th>Water Exposure</th>\n",
       "      <th>Water Type</th>\n",
       "      <th>Animal Type</th>\n",
       "      <th>Animal Type Specify</th>\n",
       "      <th>Water Status</th>\n",
       "    </tr>\n",
       "  </thead>\n",
       "  <tbody>\n",
       "    <tr>\n",
       "      <th>0</th>\n",
       "      <td>2009</td>\n",
       "      <td>1</td>\n",
       "      <td>Minnesota</td>\n",
       "      <td>Person-to-person</td>\n",
       "      <td>Norovirus Genogroup II</td>\n",
       "      <td>unknown</td>\n",
       "      <td>Confirmed</td>\n",
       "      <td>Hotel/motel</td>\n",
       "      <td>21</td>\n",
       "      <td>0.0</td>\n",
       "      <td>...</td>\n",
       "      <td>0.0</td>\n",
       "      <td>19.0</td>\n",
       "      <td>NaN</td>\n",
       "      <td>NaN</td>\n",
       "      <td>NaN</td>\n",
       "      <td>NaN</td>\n",
       "      <td>NaN</td>\n",
       "      <td>NaN</td>\n",
       "      <td>NaN</td>\n",
       "      <td>NaN</td>\n",
       "    </tr>\n",
       "    <tr>\n",
       "      <th>1</th>\n",
       "      <td>2009</td>\n",
       "      <td>1</td>\n",
       "      <td>Minnesota</td>\n",
       "      <td>Food</td>\n",
       "      <td>Norovirus</td>\n",
       "      <td>NaN</td>\n",
       "      <td>Suspected</td>\n",
       "      <td>Restaurant - Sit-down dining</td>\n",
       "      <td>2</td>\n",
       "      <td>0.0</td>\n",
       "      <td>...</td>\n",
       "      <td>0.0</td>\n",
       "      <td>2.0</td>\n",
       "      <td>NaN</td>\n",
       "      <td>NaN</td>\n",
       "      <td>NaN</td>\n",
       "      <td>NaN</td>\n",
       "      <td>NaN</td>\n",
       "      <td>NaN</td>\n",
       "      <td>NaN</td>\n",
       "      <td>NaN</td>\n",
       "    </tr>\n",
       "    <tr>\n",
       "      <th>2</th>\n",
       "      <td>2009</td>\n",
       "      <td>2</td>\n",
       "      <td>Minnesota</td>\n",
       "      <td>Person-to-person</td>\n",
       "      <td>Norovirus</td>\n",
       "      <td>NaN</td>\n",
       "      <td>Suspected</td>\n",
       "      <td>Other, specify</td>\n",
       "      <td>50</td>\n",
       "      <td>0.0</td>\n",
       "      <td>...</td>\n",
       "      <td>0.0</td>\n",
       "      <td>50.0</td>\n",
       "      <td>NaN</td>\n",
       "      <td>NaN</td>\n",
       "      <td>NaN</td>\n",
       "      <td>NaN</td>\n",
       "      <td>NaN</td>\n",
       "      <td>NaN</td>\n",
       "      <td>NaN</td>\n",
       "      <td>NaN</td>\n",
       "    </tr>\n",
       "    <tr>\n",
       "      <th>3</th>\n",
       "      <td>2009</td>\n",
       "      <td>1</td>\n",
       "      <td>Minnesota</td>\n",
       "      <td>Person-to-person</td>\n",
       "      <td>Norovirus unknown</td>\n",
       "      <td>NaN</td>\n",
       "      <td>Confirmed</td>\n",
       "      <td>Restaurant</td>\n",
       "      <td>24</td>\n",
       "      <td>0.0</td>\n",
       "      <td>...</td>\n",
       "      <td>0.0</td>\n",
       "      <td>24.0</td>\n",
       "      <td>NaN</td>\n",
       "      <td>NaN</td>\n",
       "      <td>NaN</td>\n",
       "      <td>NaN</td>\n",
       "      <td>NaN</td>\n",
       "      <td>NaN</td>\n",
       "      <td>NaN</td>\n",
       "      <td>NaN</td>\n",
       "    </tr>\n",
       "    <tr>\n",
       "      <th>4</th>\n",
       "      <td>2009</td>\n",
       "      <td>1</td>\n",
       "      <td>Minnesota</td>\n",
       "      <td>Food</td>\n",
       "      <td>Norovirus</td>\n",
       "      <td>NaN</td>\n",
       "      <td>Confirmed</td>\n",
       "      <td>NaN</td>\n",
       "      <td>16</td>\n",
       "      <td>0.0</td>\n",
       "      <td>...</td>\n",
       "      <td>0.0</td>\n",
       "      <td>16.0</td>\n",
       "      <td>NaN</td>\n",
       "      <td>NaN</td>\n",
       "      <td>NaN</td>\n",
       "      <td>NaN</td>\n",
       "      <td>NaN</td>\n",
       "      <td>NaN</td>\n",
       "      <td>NaN</td>\n",
       "      <td>NaN</td>\n",
       "    </tr>\n",
       "    <tr>\n",
       "      <th>...</th>\n",
       "      <td>...</td>\n",
       "      <td>...</td>\n",
       "      <td>...</td>\n",
       "      <td>...</td>\n",
       "      <td>...</td>\n",
       "      <td>...</td>\n",
       "      <td>...</td>\n",
       "      <td>...</td>\n",
       "      <td>...</td>\n",
       "      <td>...</td>\n",
       "      <td>...</td>\n",
       "      <td>...</td>\n",
       "      <td>...</td>\n",
       "      <td>...</td>\n",
       "      <td>...</td>\n",
       "      <td>...</td>\n",
       "      <td>...</td>\n",
       "      <td>...</td>\n",
       "      <td>...</td>\n",
       "      <td>...</td>\n",
       "      <td>...</td>\n",
       "    </tr>\n",
       "    <tr>\n",
       "      <th>59731</th>\n",
       "      <td>2021</td>\n",
       "      <td>12</td>\n",
       "      <td>Kansas</td>\n",
       "      <td>Person-to-person</td>\n",
       "      <td>Norovirus unknown</td>\n",
       "      <td>NaN</td>\n",
       "      <td>Confirmed</td>\n",
       "      <td>Child day care</td>\n",
       "      <td>34</td>\n",
       "      <td>NaN</td>\n",
       "      <td>...</td>\n",
       "      <td>0.0</td>\n",
       "      <td>34.0</td>\n",
       "      <td>NaN</td>\n",
       "      <td>NaN</td>\n",
       "      <td>NaN</td>\n",
       "      <td>NaN</td>\n",
       "      <td>NaN</td>\n",
       "      <td>NaN</td>\n",
       "      <td>NaN</td>\n",
       "      <td>NaN</td>\n",
       "    </tr>\n",
       "    <tr>\n",
       "      <th>59732</th>\n",
       "      <td>2021</td>\n",
       "      <td>11</td>\n",
       "      <td>Multistate</td>\n",
       "      <td>Food</td>\n",
       "      <td>Listeria monocytogenes</td>\n",
       "      <td>NaN</td>\n",
       "      <td>Confirmed</td>\n",
       "      <td>Unknown</td>\n",
       "      <td>7</td>\n",
       "      <td>7.0</td>\n",
       "      <td>...</td>\n",
       "      <td>3.0</td>\n",
       "      <td>7.0</td>\n",
       "      <td>NaN</td>\n",
       "      <td>NaN</td>\n",
       "      <td>NaN</td>\n",
       "      <td>NaN</td>\n",
       "      <td>NaN</td>\n",
       "      <td>NaN</td>\n",
       "      <td>NaN</td>\n",
       "      <td>NaN</td>\n",
       "    </tr>\n",
       "    <tr>\n",
       "      <th>59733</th>\n",
       "      <td>2021</td>\n",
       "      <td>5</td>\n",
       "      <td>Arizona</td>\n",
       "      <td>Food</td>\n",
       "      <td>NaN</td>\n",
       "      <td>NaN</td>\n",
       "      <td>NaN</td>\n",
       "      <td>Unknown</td>\n",
       "      <td>4</td>\n",
       "      <td>0.0</td>\n",
       "      <td>...</td>\n",
       "      <td>0.0</td>\n",
       "      <td>4.0</td>\n",
       "      <td>NaN</td>\n",
       "      <td>NaN</td>\n",
       "      <td>NaN</td>\n",
       "      <td>NaN</td>\n",
       "      <td>NaN</td>\n",
       "      <td>NaN</td>\n",
       "      <td>NaN</td>\n",
       "      <td>NaN</td>\n",
       "    </tr>\n",
       "    <tr>\n",
       "      <th>59734</th>\n",
       "      <td>2021</td>\n",
       "      <td>5</td>\n",
       "      <td>Arizona</td>\n",
       "      <td>Person-to-person</td>\n",
       "      <td>Norovirus Genogroup II</td>\n",
       "      <td>NaN</td>\n",
       "      <td>Suspected</td>\n",
       "      <td>Ship/boat</td>\n",
       "      <td>19</td>\n",
       "      <td>0.0</td>\n",
       "      <td>...</td>\n",
       "      <td>0.0</td>\n",
       "      <td>19.0</td>\n",
       "      <td>NaN</td>\n",
       "      <td>NaN</td>\n",
       "      <td>NaN</td>\n",
       "      <td>NaN</td>\n",
       "      <td>NaN</td>\n",
       "      <td>NaN</td>\n",
       "      <td>NaN</td>\n",
       "      <td>NaN</td>\n",
       "    </tr>\n",
       "    <tr>\n",
       "      <th>59735</th>\n",
       "      <td>2021</td>\n",
       "      <td>6</td>\n",
       "      <td>Arizona</td>\n",
       "      <td>Person-to-person</td>\n",
       "      <td>Norovirus Genogroup II</td>\n",
       "      <td>GII.P16 - GII.4 untypeable</td>\n",
       "      <td>Confirmed</td>\n",
       "      <td>Child day care</td>\n",
       "      <td>19</td>\n",
       "      <td>0.0</td>\n",
       "      <td>...</td>\n",
       "      <td>0.0</td>\n",
       "      <td>19.0</td>\n",
       "      <td>NaN</td>\n",
       "      <td>NaN</td>\n",
       "      <td>NaN</td>\n",
       "      <td>NaN</td>\n",
       "      <td>NaN</td>\n",
       "      <td>NaN</td>\n",
       "      <td>NaN</td>\n",
       "      <td>NaN</td>\n",
       "    </tr>\n",
       "  </tbody>\n",
       "</table>\n",
       "<p>59736 rows × 21 columns</p>\n",
       "</div>"
      ],
      "text/plain": [
       "       Year  Month       State      Primary Mode                Etiology  \\\n",
       "0      2009      1   Minnesota  Person-to-person  Norovirus Genogroup II   \n",
       "1      2009      1   Minnesota              Food               Norovirus   \n",
       "2      2009      2   Minnesota  Person-to-person               Norovirus   \n",
       "3      2009      1   Minnesota  Person-to-person       Norovirus unknown   \n",
       "4      2009      1   Minnesota              Food               Norovirus   \n",
       "...     ...    ...         ...               ...                     ...   \n",
       "59731  2021     12      Kansas  Person-to-person       Norovirus unknown   \n",
       "59732  2021     11  Multistate              Food  Listeria monocytogenes   \n",
       "59733  2021      5     Arizona              Food                     NaN   \n",
       "59734  2021      5     Arizona  Person-to-person  Norovirus Genogroup II   \n",
       "59735  2021      6     Arizona  Person-to-person  Norovirus Genogroup II   \n",
       "\n",
       "             Serotype or Genotype Etiology Status  \\\n",
       "0                         unknown       Confirmed   \n",
       "1                             NaN       Suspected   \n",
       "2                             NaN       Suspected   \n",
       "3                             NaN       Confirmed   \n",
       "4                             NaN       Confirmed   \n",
       "...                           ...             ...   \n",
       "59731                         NaN       Confirmed   \n",
       "59732                         NaN       Confirmed   \n",
       "59733                         NaN             NaN   \n",
       "59734                         NaN       Suspected   \n",
       "59735  GII.P16 - GII.4 untypeable       Confirmed   \n",
       "\n",
       "                            Setting  Illnesses  Hospitalizations  ...  Deaths  \\\n",
       "0                       Hotel/motel         21               0.0  ...     0.0   \n",
       "1      Restaurant - Sit-down dining          2               0.0  ...     0.0   \n",
       "2                    Other, specify         50               0.0  ...     0.0   \n",
       "3                        Restaurant         24               0.0  ...     0.0   \n",
       "4                               NaN         16               0.0  ...     0.0   \n",
       "...                             ...        ...               ...  ...     ...   \n",
       "59731                Child day care         34               NaN  ...     0.0   \n",
       "59732                       Unknown          7               7.0  ...     3.0   \n",
       "59733                       Unknown          4               0.0  ...     0.0   \n",
       "59734                     Ship/boat         19               0.0  ...     0.0   \n",
       "59735                Child day care         19               0.0  ...     0.0   \n",
       "\n",
       "       Info on Deaths  Food Vehicle Food Contaminated Ingredient  \\\n",
       "0                19.0           NaN                          NaN   \n",
       "1                 2.0           NaN                          NaN   \n",
       "2                50.0           NaN                          NaN   \n",
       "3                24.0           NaN                          NaN   \n",
       "4                16.0           NaN                          NaN   \n",
       "...               ...           ...                          ...   \n",
       "59731            34.0           NaN                          NaN   \n",
       "59732             7.0           NaN                          NaN   \n",
       "59733             4.0           NaN                          NaN   \n",
       "59734            19.0           NaN                          NaN   \n",
       "59735            19.0           NaN                          NaN   \n",
       "\n",
       "      IFSAC Category Water Exposure Water Type Animal Type  \\\n",
       "0                NaN            NaN        NaN         NaN   \n",
       "1                NaN            NaN        NaN         NaN   \n",
       "2                NaN            NaN        NaN         NaN   \n",
       "3                NaN            NaN        NaN         NaN   \n",
       "4                NaN            NaN        NaN         NaN   \n",
       "...              ...            ...        ...         ...   \n",
       "59731            NaN            NaN        NaN         NaN   \n",
       "59732            NaN            NaN        NaN         NaN   \n",
       "59733            NaN            NaN        NaN         NaN   \n",
       "59734            NaN            NaN        NaN         NaN   \n",
       "59735            NaN            NaN        NaN         NaN   \n",
       "\n",
       "      Animal Type Specify Water Status  \n",
       "0                     NaN          NaN  \n",
       "1                     NaN          NaN  \n",
       "2                     NaN          NaN  \n",
       "3                     NaN          NaN  \n",
       "4                     NaN          NaN  \n",
       "...                   ...          ...  \n",
       "59731                 NaN          NaN  \n",
       "59732                 NaN          NaN  \n",
       "59733                 NaN          NaN  \n",
       "59734                 NaN          NaN  \n",
       "59735                 NaN          NaN  \n",
       "\n",
       "[59736 rows x 21 columns]"
      ]
     },
     "execution_count": 3,
     "metadata": {},
     "output_type": "execute_result"
    }
   ],
   "source": [
    "nors"
   ]
  },
  {
   "cell_type": "code",
   "execution_count": 4,
   "id": "98ef6de1",
   "metadata": {},
   "outputs": [],
   "source": [
    "foodborne = nors.loc[nors['Primary Mode'] == 'Food']"
   ]
  },
  {
   "cell_type": "code",
   "execution_count": 5,
   "id": "fb024f73",
   "metadata": {},
   "outputs": [],
   "source": [
    "counts = foodborne[['State', 'Year', 'Primary Mode']].rename(columns = {'State': 'state',\n",
    "                                                                        'Year': 'year',\n",
    "                                                                        'Primary Mode': 'outbreak_count'}).groupby(['state', \n",
    "                                                                                                                    'year']).count()"
   ]
  },
  {
   "cell_type": "code",
   "execution_count": 6,
   "id": "e31439ed",
   "metadata": {},
   "outputs": [],
   "source": [
    "state_year = foodborne[['State', \n",
    "                        'Year', \n",
    "                        'Illnesses', \n",
    "                        'Hospitalizations']].rename(columns = {'State': 'state',\n",
    "                                                               'Year':'year',\n",
    "                                                               'Illnesses': 'illnesses',\n",
    "                                                               'Hospitalizations': 'hospitalizations'}).groupby(['state', \n",
    "                                                                                                                 'year']).sum()"
   ]
  },
  {
   "cell_type": "code",
   "execution_count": 7,
   "id": "b3e33f54",
   "metadata": {},
   "outputs": [],
   "source": [
    "state_year['outbreak_counts'] = counts['outbreak_count']"
   ]
  },
  {
   "cell_type": "code",
   "execution_count": 8,
   "id": "75b768f9",
   "metadata": {
    "scrolled": true
   },
   "outputs": [],
   "source": [
    "state_year = state_year.reset_index()"
   ]
  },
  {
   "cell_type": "code",
   "execution_count": 9,
   "id": "d4410576",
   "metadata": {},
   "outputs": [],
   "source": [
    "state_year.to_csv('../data/state_year.csv')"
   ]
  },
  {
   "cell_type": "code",
   "execution_count": 10,
   "id": "4eb3b5aa",
   "metadata": {},
   "outputs": [],
   "source": [
    "foods = foodborne['Food Contaminated Ingredient'].tolist()"
   ]
  },
  {
   "cell_type": "code",
   "execution_count": 11,
   "id": "59271776",
   "metadata": {},
   "outputs": [],
   "source": [
    "food_list = foodborne['Food Contaminated Ingredient'].tolist()"
   ]
  },
  {
   "cell_type": "code",
   "execution_count": 12,
   "id": "f28ba0ca",
   "metadata": {},
   "outputs": [],
   "source": [
    "food_list = [i for i in food_list if str(i) != 'nan']"
   ]
  },
  {
   "cell_type": "code",
   "execution_count": 13,
   "id": "bb6f3a45",
   "metadata": {},
   "outputs": [],
   "source": [
    "food_list_nonspec = [re.sub(',\\s.+', '', i) for i in food_list]"
   ]
  },
  {
   "cell_type": "code",
   "execution_count": 14,
   "id": "947263c9",
   "metadata": {},
   "outputs": [],
   "source": [
    "foods = list()\n",
    "for i in food_list_nonspec:\n",
    "    x = i.split('; ')\n",
    "    foods.extend(x)"
   ]
  },
  {
   "cell_type": "code",
   "execution_count": 15,
   "id": "d1af691f",
   "metadata": {},
   "outputs": [],
   "source": [
    "foods_untouched = foods.copy()"
   ]
  },
  {
   "cell_type": "code",
   "execution_count": 16,
   "id": "e41a5b7c",
   "metadata": {},
   "outputs": [],
   "source": [
    "foods = [re.sub('fin\\sfish', 'fish', i) for i in foods]"
   ]
  },
  {
   "cell_type": "code",
   "execution_count": 17,
   "id": "de85395d",
   "metadata": {},
   "outputs": [],
   "source": [
    "foods = [re.sub('yellowfin\\stuna', 'fish', i) for i in foods]"
   ]
  },
  {
   "cell_type": "code",
   "execution_count": 18,
   "id": "434a729e",
   "metadata": {},
   "outputs": [],
   "source": [
    "foods = [re.sub('tuna', 'fish', i) for i in foods]"
   ]
  },
  {
   "cell_type": "code",
   "execution_count": 19,
   "id": "966be008",
   "metadata": {},
   "outputs": [],
   "source": [
    "foods = [re.sub('fish,other', 'fish', i) for i in foods]"
   ]
  },
  {
   "cell_type": "code",
   "execution_count": 20,
   "id": "4c7a8ed2",
   "metadata": {},
   "outputs": [],
   "source": [
    "foods = [re.sub('tuna\\ssteak', 'fish', i) for i in foods]"
   ]
  },
  {
   "cell_type": "code",
   "execution_count": 21,
   "id": "63c1fe11",
   "metadata": {},
   "outputs": [],
   "source": [
    "foods = [re.sub('crab', 'crustacean', i) for i in foods]"
   ]
  },
  {
   "cell_type": "code",
   "execution_count": 22,
   "id": "141d4676",
   "metadata": {},
   "outputs": [],
   "source": [
    "foods = [re.sub('steak', 'beef', i) for i in foods]"
   ]
  },
  {
   "cell_type": "code",
   "execution_count": 23,
   "id": "49742bcb",
   "metadata": {},
   "outputs": [],
   "source": [
    "foods = [re.sub('roast\\sbeef', 'beef', i) for i in foods]"
   ]
  },
  {
   "cell_type": "code",
   "execution_count": 24,
   "id": "a38caf1c",
   "metadata": {},
   "outputs": [],
   "source": [
    "foods = [re.sub('ground\\sbeef', 'beef', i) for i in foods]"
   ]
  },
  {
   "cell_type": "code",
   "execution_count": 25,
   "id": "a9b4f0a7",
   "metadata": {},
   "outputs": [],
   "source": [
    "foods = [re.sub('lettuce', 'leafy green', i) for i in foods]"
   ]
  },
  {
   "cell_type": "code",
   "execution_count": 26,
   "id": "c7289cd2",
   "metadata": {},
   "outputs": [],
   "source": [
    "foods = [re.sub('romaine\\slettuce', 'leafy green', i) for i in foods]"
   ]
  },
  {
   "cell_type": "code",
   "execution_count": 27,
   "id": "59730b35",
   "metadata": {},
   "outputs": [],
   "source": [
    "foods = [re.sub('basil', 'leafy green', i) for i in foods]"
   ]
  },
  {
   "cell_type": "code",
   "execution_count": 28,
   "id": "36adc0a0",
   "metadata": {},
   "outputs": [],
   "source": [
    "foods = [re.sub('romaine\\sleafy\\sgreen', 'leafy green', i) for i in foods]"
   ]
  },
  {
   "cell_type": "code",
   "execution_count": 29,
   "id": "23dea6d7",
   "metadata": {},
   "outputs": [],
   "source": [
    "foods = [re.sub('leaf\\sleafy\\sgreen', 'leafy green', i) for i in foods]"
   ]
  },
  {
   "cell_type": "code",
   "execution_count": 30,
   "id": "c124ff00",
   "metadata": {},
   "outputs": [],
   "source": [
    "foods = [re.sub('iceberg\\sleafy\\sgreen', 'leafy green', i) for i in foods]"
   ]
  },
  {
   "cell_type": "code",
   "execution_count": 31,
   "id": "c1710e65",
   "metadata": {},
   "outputs": [],
   "source": [
    "foods = [re.sub('cabbage', 'leafy green', i) for i in foods]"
   ]
  },
  {
   "cell_type": "code",
   "execution_count": 32,
   "id": "80327461",
   "metadata": {},
   "outputs": [],
   "source": [
    "foods = [re.sub('spinach', 'leafy green', i) for i in foods]"
   ]
  },
  {
   "cell_type": "code",
   "execution_count": 33,
   "id": "90dd9bae",
   "metadata": {},
   "outputs": [],
   "source": [
    "foods = [re.sub('salad', 'leafy green', i) for i in foods]"
   ]
  },
  {
   "cell_type": "code",
   "execution_count": 34,
   "id": "45187180",
   "metadata": {},
   "outputs": [],
   "source": [
    "foods = [re.sub('fish\\sbeef', 'beef', i) for i in foods]"
   ]
  },
  {
   "cell_type": "code",
   "execution_count": 35,
   "id": "7ac590a5",
   "metadata": {},
   "outputs": [],
   "source": [
    "foods = [re.sub('vine-stalk\\seg.\\stomato', 'tomato', i) for i in foods]"
   ]
  },
  {
   "cell_type": "code",
   "execution_count": 36,
   "id": "9377e04d",
   "metadata": {},
   "outputs": [],
   "source": [
    "foods = [re.sub('tomatoes', 'tomato', i) for i in foods]"
   ]
  },
  {
   "cell_type": "code",
   "execution_count": 37,
   "id": "401a6ec9",
   "metadata": {},
   "outputs": [],
   "source": [
    "foods = [re.sub('root\\s.eg.\\spotato.', 'potato', i) for i in foods]"
   ]
  },
  {
   "cell_type": "code",
   "execution_count": 38,
   "id": "9a581da7",
   "metadata": {},
   "outputs": [],
   "source": [
    "foods = [re.sub('raw\\smilk', 'milk', i) for i in foods]"
   ]
  },
  {
   "cell_type": "code",
   "execution_count": 39,
   "id": "f93e07dc",
   "metadata": {},
   "outputs": [],
   "source": [
    "foods = [re.sub('beans', 'legume', i) for i in foods]"
   ]
  },
  {
   "cell_type": "code",
   "execution_count": 40,
   "id": "a8fa977b",
   "metadata": {},
   "outputs": [],
   "source": [
    "foods = [re.sub('chick\\speas', 'legume', i) for i in foods]"
   ]
  },
  {
   "cell_type": "code",
   "execution_count": 41,
   "id": "41aa23e5",
   "metadata": {},
   "outputs": [],
   "source": [
    "foods = [re.sub('green\\slegume', 'legume', i) for i in foods]"
   ]
  },
  {
   "cell_type": "code",
   "execution_count": 42,
   "id": "e6287dcd",
   "metadata": {},
   "outputs": [],
   "source": [
    "foods = [re.sub('cantaloupe', 'fruit', i) for i in foods]"
   ]
  },
  {
   "cell_type": "code",
   "execution_count": 43,
   "id": "fbef20ea",
   "metadata": {},
   "outputs": [],
   "source": [
    "foods = [re.sub('strawberries', 'fruit', i) for i in foods]"
   ]
  },
  {
   "cell_type": "code",
   "execution_count": 44,
   "id": "8c2d211d",
   "metadata": {},
   "outputs": [],
   "source": [
    "foods = [re.sub('pineapple', 'fruit', i) for i in foods]"
   ]
  },
  {
   "cell_type": "code",
   "execution_count": 45,
   "id": "e9ddf820",
   "metadata": {},
   "outputs": [],
   "source": [
    "foods = [re.sub('apple', 'fruit', i) for i in foods]"
   ]
  },
  {
   "cell_type": "code",
   "execution_count": 46,
   "id": "d8957e38",
   "metadata": {},
   "outputs": [],
   "source": [
    "foods = [re.sub('watermelon', 'fruit', i) for i in foods]"
   ]
  },
  {
   "cell_type": "code",
   "execution_count": 47,
   "id": "9d0f0777",
   "metadata": {},
   "outputs": [],
   "source": [
    "foods = [re.sub('melon', 'fruit', i) for i in foods]"
   ]
  },
  {
   "cell_type": "code",
   "execution_count": 48,
   "id": "0e65ecd6",
   "metadata": {},
   "outputs": [],
   "source": [
    "foods = [re.sub('honeydew\\smelon', 'fruit', i) for i in foods]"
   ]
  },
  {
   "cell_type": "code",
   "execution_count": 49,
   "id": "25788ec3",
   "metadata": {},
   "outputs": [],
   "source": [
    "foods = [re.sub('blueberries', 'fruit', i) for i in foods]"
   ]
  },
  {
   "cell_type": "code",
   "execution_count": 50,
   "id": "0a2741f5",
   "metadata": {},
   "outputs": [],
   "source": [
    "foods = [re.sub('avocado', 'fruit', i) for i in foods]"
   ]
  },
  {
   "cell_type": "code",
   "execution_count": 51,
   "id": "20b68faf",
   "metadata": {},
   "outputs": [],
   "source": [
    "foods = [re.sub('ham', 'pork', i) for i in foods]"
   ]
  },
  {
   "cell_type": "code",
   "execution_count": 52,
   "id": "0609ee5d",
   "metadata": {},
   "outputs": [],
   "source": [
    "foods = [re.sub('oysters', 'shellfish', i) for i in foods]"
   ]
  },
  {
   "cell_type": "code",
   "execution_count": 53,
   "id": "f1660076",
   "metadata": {},
   "outputs": [],
   "source": [
    "foods = [re.sub('crustacean', 'shellfish', i) for i in foods]"
   ]
  },
  {
   "cell_type": "code",
   "execution_count": 54,
   "id": "b4bdba18",
   "metadata": {},
   "outputs": [],
   "source": [
    "foods = [re.sub('shrimp', 'shellfish', i) for i in foods]"
   ]
  },
  {
   "cell_type": "code",
   "execution_count": 55,
   "id": "00cb0891",
   "metadata": {},
   "outputs": [],
   "source": [
    "foods = [re.sub('clams', 'shellfish', i) for i in foods]"
   ]
  },
  {
   "cell_type": "code",
   "execution_count": 56,
   "id": "3cce9762",
   "metadata": {},
   "outputs": [],
   "source": [
    "foods = [re.sub('mussels', 'shellfish', i) for i in foods]"
   ]
  },
  {
   "cell_type": "code",
   "execution_count": 57,
   "id": "e37912c4",
   "metadata": {},
   "outputs": [],
   "source": [
    "foods = [re.sub('crawfish\\/crayfish', 'shellfish', i) for i in foods]"
   ]
  },
  {
   "cell_type": "code",
   "execution_count": 58,
   "id": "cdcc857a",
   "metadata": {},
   "outputs": [],
   "source": [
    "foods = [re.sub('other\\scheese', 'cheese', i) for i in foods]"
   ]
  },
  {
   "cell_type": "code",
   "execution_count": 59,
   "id": "18943d64",
   "metadata": {},
   "outputs": [],
   "source": [
    "foods = [re.sub('fungus', 'mushrooms', i) for i in foods]"
   ]
  },
  {
   "cell_type": "code",
   "execution_count": 60,
   "id": "2c2197f0",
   "metadata": {},
   "outputs": [],
   "source": [
    "foods = [re.sub('onion', 'other vegetables', i) for i in foods]"
   ]
  },
  {
   "cell_type": "code",
   "execution_count": 61,
   "id": "df108535",
   "metadata": {},
   "outputs": [],
   "source": [
    "foods = [re.sub('cucumber', 'other vegetables', i) for i in foods]"
   ]
  },
  {
   "cell_type": "code",
   "execution_count": 62,
   "id": "58fdd211",
   "metadata": {},
   "outputs": [],
   "source": [
    "foods = [re.sub('sprouts', 'other vegetables', i) for i in foods]"
   ]
  },
  {
   "cell_type": "code",
   "execution_count": 63,
   "id": "957d637f",
   "metadata": {},
   "outputs": [],
   "source": [
    "foods = [re.sub('carrots', 'other vegetables', i) for i in foods]"
   ]
  },
  {
   "cell_type": "code",
   "execution_count": 64,
   "id": "43bc0f45",
   "metadata": {},
   "outputs": [],
   "source": [
    "foods = [re.sub('peppers', 'other vegetables', i) for i in foods]"
   ]
  },
  {
   "cell_type": "code",
   "execution_count": 65,
   "id": "6e6dda5b",
   "metadata": {},
   "outputs": [],
   "source": [
    "foods = [re.sub('potatoes', 'potato', i) for i in foods]"
   ]
  },
  {
   "cell_type": "code",
   "execution_count": 66,
   "id": "99970d8b",
   "metadata": {},
   "outputs": [],
   "source": [
    "food_count = Counter(foods)"
   ]
  },
  {
   "cell_type": "code",
   "execution_count": 67,
   "id": "a0de1730",
   "metadata": {},
   "outputs": [],
   "source": [
    "food_counts = pd.DataFrame.from_dict(food_count, orient = 'index')"
   ]
  },
  {
   "cell_type": "code",
   "execution_count": 68,
   "id": "4593e070",
   "metadata": {},
   "outputs": [],
   "source": [
    "food_counts = food_counts.reset_index()"
   ]
  },
  {
   "cell_type": "code",
   "execution_count": 69,
   "id": "94aa451f",
   "metadata": {},
   "outputs": [],
   "source": [
    "food_counts = food_counts.rename(columns = {'index': 'food', 0: 'count'})"
   ]
  },
  {
   "cell_type": "code",
   "execution_count": 70,
   "id": "48cbd80c",
   "metadata": {
    "scrolled": true
   },
   "outputs": [],
   "source": [
    "food_counts.sort_values(by = 'count', ascending = False).head(29).to_csv('../data/food_counts.csv')"
   ]
  },
  {
   "cell_type": "code",
   "execution_count": 71,
   "id": "2e8c4a91",
   "metadata": {},
   "outputs": [],
   "source": [
    "foodborne[['genus', 'species']] = foodborne.Etiology.str.split(' ', 1, expand = True)"
   ]
  },
  {
   "cell_type": "code",
   "execution_count": 72,
   "id": "5303c2e0",
   "metadata": {},
   "outputs": [],
   "source": [
    "foodborne['genus'] = foodborne['genus'].str.replace(';', '')"
   ]
  },
  {
   "cell_type": "code",
   "execution_count": 73,
   "id": "20862c39",
   "metadata": {
    "scrolled": true
   },
   "outputs": [],
   "source": [
    "genus_counts = foodborne[['genus', 'Year']].rename(columns = {'Year': 'count'}).groupby('genus').count()"
   ]
  },
  {
   "cell_type": "code",
   "execution_count": 74,
   "id": "2c93708a",
   "metadata": {},
   "outputs": [],
   "source": [
    "genus_counts.to_csv('../data/genus_counts.csv')"
   ]
  },
  {
   "cell_type": "code",
   "execution_count": 75,
   "id": "6a09ce14",
   "metadata": {},
   "outputs": [],
   "source": [
    "organism_counts = foodborne[['Etiology', 'genus', 'Year']].rename(columns = {'Etiology': 'organism', \n",
    "                                                                             'Year': 'count'}).groupby(['organism', \n",
    "                                                                                                        'genus']).count()"
   ]
  },
  {
   "cell_type": "code",
   "execution_count": 76,
   "id": "7bea8f05",
   "metadata": {},
   "outputs": [],
   "source": [
    "organism_counts.to_csv('../data/organism_counts.csv')"
   ]
  }
 ],
 "metadata": {
  "kernelspec": {
   "display_name": "Python 3 (ipykernel)",
   "language": "python",
   "name": "python3"
  },
  "language_info": {
   "codemirror_mode": {
    "name": "ipython",
    "version": 3
   },
   "file_extension": ".py",
   "mimetype": "text/x-python",
   "name": "python",
   "nbconvert_exporter": "python",
   "pygments_lexer": "ipython3",
   "version": "3.9.13"
  }
 },
 "nbformat": 4,
 "nbformat_minor": 5
}
