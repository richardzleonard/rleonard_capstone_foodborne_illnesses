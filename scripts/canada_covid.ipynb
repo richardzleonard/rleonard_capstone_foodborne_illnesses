{
 "cells": [
  {
   "cell_type": "code",
   "execution_count": 1,
   "id": "aff9882b",
   "metadata": {},
   "outputs": [],
   "source": [
    "import pandas as pd"
   ]
  },
  {
   "cell_type": "code",
   "execution_count": 2,
   "id": "de092985",
   "metadata": {},
   "outputs": [],
   "source": [
    "owid_covid = pd.read_csv('../data/owid-covid-data.csv')"
   ]
  },
  {
   "cell_type": "code",
   "execution_count": 3,
   "id": "2060d684",
   "metadata": {},
   "outputs": [],
   "source": [
    "canada_us_covid = owid_covid[['location', \n",
    "                              'date', \n",
    "                              'total_cases', \n",
    "                              'new_cases', \n",
    "                              'population']].loc[(owid_covid.location == 'Canada') | \n",
    "                                                 (owid_covid.location == 'United States')]"
   ]
  },
  {
   "cell_type": "code",
   "execution_count": 4,
   "id": "afb6892d",
   "metadata": {},
   "outputs": [],
   "source": [
    "canada_us_covid['total_cases_percap'] = canada_us_covid['total_cases'] / canada_us_covid['population']"
   ]
  },
  {
   "cell_type": "code",
   "execution_count": 5,
   "id": "8fa4ae02",
   "metadata": {},
   "outputs": [],
   "source": [
    "canada_us_covid.to_csv('../data/canada_us_covid.csv')"
   ]
  },
  {
   "cell_type": "code",
   "execution_count": 6,
   "id": "215126bb",
   "metadata": {},
   "outputs": [],
   "source": [
    "pop_canada = pd.read_csv('../data/canada-population.csv')"
   ]
  },
  {
   "cell_type": "code",
   "execution_count": 7,
   "id": "0249b908",
   "metadata": {},
   "outputs": [],
   "source": [
    "food_consumption = pd.read_csv('../data/fullcifocoss.csv', sep = ';')"
   ]
  },
  {
   "cell_type": "code",
   "execution_count": 8,
   "id": "5dd72670",
   "metadata": {},
   "outputs": [],
   "source": [
    "US_food_consumption = food_consumption.loc[food_consumption.Country == 'United States of America']"
   ]
  },
  {
   "cell_type": "code",
   "execution_count": 9,
   "id": "46efb72f",
   "metadata": {},
   "outputs": [],
   "source": [
    "US_food_consumption = US_food_consumption.loc[US_food_consumption.Gender == 'All']"
   ]
  },
  {
   "cell_type": "code",
   "execution_count": 10,
   "id": "c5fb78f2",
   "metadata": {},
   "outputs": [],
   "source": [
    "US_food_consumption = US_food_consumption.loc[US_food_consumption.SourceAgeClass == 'All']"
   ]
  },
  {
   "cell_type": "code",
   "execution_count": 11,
   "id": "46827b3b",
   "metadata": {},
   "outputs": [],
   "source": [
    "US_food_consumption = US_food_consumption.loc[US_food_consumption.AgeClass == 'All']"
   ]
  },
  {
   "cell_type": "code",
   "execution_count": 12,
   "id": "7010ef4b",
   "metadata": {},
   "outputs": [],
   "source": [
    "US_food_consumption = US_food_consumption[['Country', \n",
    "                                           'Year', \n",
    "                                           'FoodName', \n",
    "                                           'Number_of_consumers', \n",
    "                                           'Consumers_Mean', \n",
    "                                           'Consumers_Median', \n",
    "                                           'Number_of_subjects',\n",
    "                                           'Total_Mean',\n",
    "                                           'Total_Median']]"
   ]
  },
  {
   "cell_type": "code",
   "execution_count": 13,
   "id": "75250426",
   "metadata": {},
   "outputs": [],
   "source": [
    "US_food_consumption.to_csv('../data/US_food_consumption.csv')"
   ]
  },
  {
   "cell_type": "code",
   "execution_count": 22,
   "id": "2092e82c",
   "metadata": {},
   "outputs": [
    {
     "data": {
      "text/html": [
       "<div>\n",
       "<style scoped>\n",
       "    .dataframe tbody tr th:only-of-type {\n",
       "        vertical-align: middle;\n",
       "    }\n",
       "\n",
       "    .dataframe tbody tr th {\n",
       "        vertical-align: top;\n",
       "    }\n",
       "\n",
       "    .dataframe thead th {\n",
       "        text-align: right;\n",
       "    }\n",
       "</style>\n",
       "<table border=\"1\" class=\"dataframe\">\n",
       "  <thead>\n",
       "    <tr style=\"text-align: right;\">\n",
       "      <th></th>\n",
       "      <th>Country</th>\n",
       "      <th>Year</th>\n",
       "      <th>FoodName</th>\n",
       "      <th>Number_of_consumers</th>\n",
       "      <th>Consumers_Mean</th>\n",
       "      <th>Consumers_Median</th>\n",
       "      <th>Number_of_subjects</th>\n",
       "      <th>Total_Mean</th>\n",
       "      <th>Total_Median</th>\n",
       "    </tr>\n",
       "  </thead>\n",
       "  <tbody>\n",
       "    <tr>\n",
       "      <th>211114</th>\n",
       "      <td>United States of America</td>\n",
       "      <td>2010</td>\n",
       "      <td>(All Beverages)</td>\n",
       "      <td>24520</td>\n",
       "      <td>1205.27</td>\n",
       "      <td>951.86</td>\n",
       "      <td>24673</td>\n",
       "      <td>1197.79</td>\n",
       "      <td>947.61</td>\n",
       "    </tr>\n",
       "    <tr>\n",
       "      <th>211618</th>\n",
       "      <td>United States of America</td>\n",
       "      <td>2010</td>\n",
       "      <td>Tap water</td>\n",
       "      <td>14048</td>\n",
       "      <td>810.42</td>\n",
       "      <td>533.25</td>\n",
       "      <td>24673</td>\n",
       "      <td>515.18</td>\n",
       "      <td>207.37</td>\n",
       "    </tr>\n",
       "    <tr>\n",
       "      <th>211702</th>\n",
       "      <td>United States of America</td>\n",
       "      <td>2010</td>\n",
       "      <td>Bottled water</td>\n",
       "      <td>11309</td>\n",
       "      <td>735.57</td>\n",
       "      <td>500.00</td>\n",
       "      <td>24673</td>\n",
       "      <td>326.01</td>\n",
       "      <td>0.00</td>\n",
       "    </tr>\n",
       "    <tr>\n",
       "      <th>211597</th>\n",
       "      <td>United States of America</td>\n",
       "      <td>2010</td>\n",
       "      <td>Drinking water</td>\n",
       "      <td>23157</td>\n",
       "      <td>496.52</td>\n",
       "      <td>338.37</td>\n",
       "      <td>24673</td>\n",
       "      <td>467.47</td>\n",
       "      <td>303.39</td>\n",
       "    </tr>\n",
       "    <tr>\n",
       "      <th>205255</th>\n",
       "      <td>United States of America</td>\n",
       "      <td>2010</td>\n",
       "      <td>(All Vegetables)</td>\n",
       "      <td>24253</td>\n",
       "      <td>168.40</td>\n",
       "      <td>136.78</td>\n",
       "      <td>24673</td>\n",
       "      <td>165.53</td>\n",
       "      <td>134.36</td>\n",
       "    </tr>\n",
       "    <tr>\n",
       "      <th>...</th>\n",
       "      <td>...</td>\n",
       "      <td>...</td>\n",
       "      <td>...</td>\n",
       "      <td>...</td>\n",
       "      <td>...</td>\n",
       "      <td>...</td>\n",
       "      <td>...</td>\n",
       "      <td>...</td>\n",
       "      <td>...</td>\n",
       "    </tr>\n",
       "    <tr>\n",
       "      <th>207754</th>\n",
       "      <td>United States of America</td>\n",
       "      <td>2010</td>\n",
       "      <td>Coriander seed</td>\n",
       "      <td>13719</td>\n",
       "      <td>0.00</td>\n",
       "      <td>0.00</td>\n",
       "      <td>24673</td>\n",
       "      <td>0.00</td>\n",
       "      <td>0.00</td>\n",
       "    </tr>\n",
       "    <tr>\n",
       "      <th>208300</th>\n",
       "      <td>United States of America</td>\n",
       "      <td>2010</td>\n",
       "      <td>Maples (trunk sap)</td>\n",
       "      <td>1428</td>\n",
       "      <td>0.00</td>\n",
       "      <td>0.00</td>\n",
       "      <td>24673</td>\n",
       "      <td>0.00</td>\n",
       "      <td>0.00</td>\n",
       "    </tr>\n",
       "    <tr>\n",
       "      <th>207334</th>\n",
       "      <td>United States of America</td>\n",
       "      <td>2010</td>\n",
       "      <td>Butternut squashes</td>\n",
       "      <td>6</td>\n",
       "      <td>0.00</td>\n",
       "      <td>0.00</td>\n",
       "      <td>24673</td>\n",
       "      <td>0.00</td>\n",
       "      <td>0.00</td>\n",
       "    </tr>\n",
       "    <tr>\n",
       "      <th>209812</th>\n",
       "      <td>United States of America</td>\n",
       "      <td>2010</td>\n",
       "      <td>Gooseberries (green, red and yellow)</td>\n",
       "      <td>15</td>\n",
       "      <td>0.00</td>\n",
       "      <td>0.00</td>\n",
       "      <td>24673</td>\n",
       "      <td>0.00</td>\n",
       "      <td>0.00</td>\n",
       "    </tr>\n",
       "    <tr>\n",
       "      <th>209119</th>\n",
       "      <td>United States of America</td>\n",
       "      <td>2010</td>\n",
       "      <td>Huckleberries</td>\n",
       "      <td>35</td>\n",
       "      <td>0.00</td>\n",
       "      <td>0.00</td>\n",
       "      <td>24673</td>\n",
       "      <td>0.00</td>\n",
       "      <td>0.00</td>\n",
       "    </tr>\n",
       "  </tbody>\n",
       "</table>\n",
       "<p>676 rows × 9 columns</p>\n",
       "</div>"
      ],
      "text/plain": [
       "                         Country  Year                              FoodName  \\\n",
       "211114  United States of America  2010                       (All Beverages)   \n",
       "211618  United States of America  2010                             Tap water   \n",
       "211702  United States of America  2010                         Bottled water   \n",
       "211597  United States of America  2010                        Drinking water   \n",
       "205255  United States of America  2010                      (All Vegetables)   \n",
       "...                          ...   ...                                   ...   \n",
       "207754  United States of America  2010                        Coriander seed   \n",
       "208300  United States of America  2010                    Maples (trunk sap)   \n",
       "207334  United States of America  2010                    Butternut squashes   \n",
       "209812  United States of America  2010  Gooseberries (green, red and yellow)   \n",
       "209119  United States of America  2010                         Huckleberries   \n",
       "\n",
       "        Number_of_consumers  Consumers_Mean  Consumers_Median  \\\n",
       "211114                24520         1205.27            951.86   \n",
       "211618                14048          810.42            533.25   \n",
       "211702                11309          735.57            500.00   \n",
       "211597                23157          496.52            338.37   \n",
       "205255                24253          168.40            136.78   \n",
       "...                     ...             ...               ...   \n",
       "207754                13719            0.00              0.00   \n",
       "208300                 1428            0.00              0.00   \n",
       "207334                    6            0.00              0.00   \n",
       "209812                   15            0.00              0.00   \n",
       "209119                   35            0.00              0.00   \n",
       "\n",
       "        Number_of_subjects  Total_Mean  Total_Median  \n",
       "211114               24673     1197.79        947.61  \n",
       "211618               24673      515.18        207.37  \n",
       "211702               24673      326.01          0.00  \n",
       "211597               24673      467.47        303.39  \n",
       "205255               24673      165.53        134.36  \n",
       "...                    ...         ...           ...  \n",
       "207754               24673        0.00          0.00  \n",
       "208300               24673        0.00          0.00  \n",
       "207334               24673        0.00          0.00  \n",
       "209812               24673        0.00          0.00  \n",
       "209119               24673        0.00          0.00  \n",
       "\n",
       "[676 rows x 9 columns]"
      ]
     },
     "execution_count": 22,
     "metadata": {},
     "output_type": "execute_result"
    }
   ],
   "source": [
    "US_food_consumption.sort_values(by = 'Consumers_Mean', ascending = False)"
   ]
  }
 ],
 "metadata": {
  "kernelspec": {
   "display_name": "Python 3 (ipykernel)",
   "language": "python",
   "name": "python3"
  },
  "language_info": {
   "codemirror_mode": {
    "name": "ipython",
    "version": 3
   },
   "file_extension": ".py",
   "mimetype": "text/x-python",
   "name": "python",
   "nbconvert_exporter": "python",
   "pygments_lexer": "ipython3",
   "version": "3.9.13"
  }
 },
 "nbformat": 4,
 "nbformat_minor": 5
}
