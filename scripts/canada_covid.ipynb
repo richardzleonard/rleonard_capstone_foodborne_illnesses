{
 "cells": [
  {
   "cell_type": "code",
   "execution_count": 1,
   "id": "aff9882b",
   "metadata": {},
   "outputs": [],
   "source": [
    "import pandas as pd"
   ]
  },
  {
   "cell_type": "code",
   "execution_count": 2,
   "id": "de092985",
   "metadata": {},
   "outputs": [],
   "source": [
    "owid_covid = pd.read_csv('../data/owid-covid-data.csv')"
   ]
  },
  {
   "cell_type": "code",
   "execution_count": 6,
   "id": "2060d684",
   "metadata": {},
   "outputs": [],
   "source": [
    "canada_us_covid = owid_covid[['location', \n",
    "                              'date', \n",
    "                              'total_cases', \n",
    "                              'new_cases', \n",
    "                              'population']].loc[(owid_covid.location == 'Canada') | \n",
    "                                                 (owid_covid.location == 'United States')]"
   ]
  },
  {
   "cell_type": "code",
   "execution_count": 7,
   "id": "8fa4ae02",
   "metadata": {},
   "outputs": [],
   "source": [
    "canada_us_covid.to_csv('../data/canada_us_covid.csv')"
   ]
  }
 ],
 "metadata": {
  "kernelspec": {
   "display_name": "Python 3 (ipykernel)",
   "language": "python",
   "name": "python3"
  },
  "language_info": {
   "codemirror_mode": {
    "name": "ipython",
    "version": 3
   },
   "file_extension": ".py",
   "mimetype": "text/x-python",
   "name": "python",
   "nbconvert_exporter": "python",
   "pygments_lexer": "ipython3",
   "version": "3.9.13"
  }
 },
 "nbformat": 4,
 "nbformat_minor": 5
}
